{
 "cells": [
  {
   "cell_type": "markdown",
   "metadata": {},
   "source": [
    "<h1 align = \"center\">Test Best Model</h1>"
   ]
  },
  {
   "cell_type": "code",
   "execution_count": 1,
   "metadata": {},
   "outputs": [],
   "source": [
    "import numpy as np\n",
    "import matplotlib.pyplot as plt\n",
    "from matplotlib.gridspec import GridSpec\n",
    "import seaborn as sns\n",
    "from tqdm import tqdm\n",
    "\n",
    "import latte\n",
    "import latte.nn as nn\n",
    "import latte.optim as optim\n",
    "import latte.functional as F\n",
    "import latte.utils.data as data\n",
    "\n",
    "import lattevision as lv\n",
    "import lattevision.datasets as dsets\n",
    "import lattevision.transforms as T\n"
   ]
  },
  {
   "cell_type": "code",
   "execution_count": 2,
   "metadata": {},
   "outputs": [],
   "source": [
    "mnist_root = '../data/mnist'\n",
    "mnist_transform = T.Compose([T.ToTensor(), T.Normalize((0.1307,), (0.3081,))])\n",
    "\n",
    "mnist_train = dsets.MNIST(mnist_root, train=True, transform=mnist_transform)\n",
    "mnist_test = dsets.MNIST(mnist_root, train=False, transform=mnist_transform)\n",
    "\n",
    "val_len = len(mnist_train) // 10\n",
    "train_len = len(mnist_train) - val_len\n",
    "mnist_train, mnist_val = data.random_split(mnist_train, [train_len, val_len])\n",
    "\n",
    "train_batch_size = 128\n",
    "test_batch_size = 512\n",
    "\n",
    "train_loader = data.DataLoader(mnist_train, batch_size=train_batch_size, shuffle=True)\n",
    "val_loader = data.DataLoader(mnist_val, batch_size=train_batch_size, shuffle=False)\n",
    "test_loader = data.DataLoader(mnist_test, batch_size=test_batch_size, shuffle=False)\n"
   ]
  },
  {
   "cell_type": "code",
   "execution_count": 3,
   "metadata": {},
   "outputs": [],
   "source": [
    "class Model(nn.Module):\n",
    "    def __init__(self) -> None:\n",
    "        super().__init__()\n",
    "        self.fc1 = nn.Linear(784, 512)\n",
    "        self.relu = nn.ReLU()\n",
    "        self.fc2 = nn.Linear(512, 10)\n",
    "\n",
    "    def forward(self, x):\n",
    "        out = self.fc1(x)\n",
    "        out = self.relu(out)\n",
    "        out = self.fc2(out)\n",
    "        return out"
   ]
  },
  {
   "cell_type": "code",
   "execution_count": 4,
   "metadata": {},
   "outputs": [
    {
     "name": "stdout",
     "output_type": "stream",
     "text": [
      "==========================================================\n",
      "Test Accuracy:  0.9794\n",
      "==========================================================\n"
     ]
    }
   ],
   "source": [
    "best_model = Model()\n",
    "best_model.load(\"./best_models/best_model.npy\")\n",
    "\n",
    "correct = 0\n",
    "total = 0\n",
    "\n",
    "for data, target in test_loader:\n",
    "    batch_size = data.shape[0]\n",
    "    if batch_size != test_batch_size:\n",
    "        continue\n",
    "\n",
    "    data = latte.Tensor(data.reshape(batch_size, -1))\n",
    "\n",
    "    output = best_model(data)\n",
    "    correct += (output.data.argmax(axis=1) == target).sum()\n",
    "    total += target.shape[0]\n",
    "\n",
    "print(\"==========================================================\")\n",
    "print(f\"Test Accuracy: {(correct / total): .4f}\")\n",
    "print(\"==========================================================\")\n"
   ]
  }
 ],
 "metadata": {
  "interpreter": {
   "hash": "ccf995d8b870276722dd6e2fa80f28154abbcc0374bb26bbdca4cb3aff668d1d"
  },
  "kernelspec": {
   "display_name": "Python 3.8.12 ('lightning')",
   "language": "python",
   "name": "python3"
  },
  "language_info": {
   "codemirror_mode": {
    "name": "ipython",
    "version": 3
   },
   "file_extension": ".py",
   "mimetype": "text/x-python",
   "name": "python",
   "nbconvert_exporter": "python",
   "pygments_lexer": "ipython3",
   "version": "3.8.12"
  },
  "orig_nbformat": 4
 },
 "nbformat": 4,
 "nbformat_minor": 2
}
